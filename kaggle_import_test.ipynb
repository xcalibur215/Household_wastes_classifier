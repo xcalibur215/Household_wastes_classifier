{
 "cells": [
  {
   "cell_type": "markdown",
   "id": "1f3c5ae6",
   "metadata": {},
   "source": [
    "# Test Notebook for Kaggle Import\n",
    "\n",
    "This is a minimal test notebook to verify Kaggle import functionality."
   ]
  },
  {
   "cell_type": "code",
   "execution_count": null,
   "id": "802e1819",
   "metadata": {},
   "outputs": [],
   "source": [
    "print('Hello from Kaggle import test!')\n",
    "import pandas as pd\n",
    "import numpy as np"
   ]
  }
 ],
 "metadata": {
  "language_info": {
   "name": "python"
  }
 },
 "nbformat": 4,
 "nbformat_minor": 5
}
